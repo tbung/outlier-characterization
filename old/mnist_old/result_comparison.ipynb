{
 "cells": [
  {
   "cell_type": "markdown",
   "metadata": {},
   "source": [
    "# Results"
   ]
  },
  {
   "cell_type": "code",
   "execution_count": 1,
   "metadata": {
    "jupyter": {
     "source_hidden": true
    }
   },
   "outputs": [],
   "source": [
    "import torch\n",
    "import torch.nn.functional as F\n",
    "import numpy as np\n",
    "import matplotlib.pyplot as plt\n",
    "# import models\n",
    "from models import Discriminator, INN\n",
    "import data\n",
    "import torchvision\n",
    "import pandas as pd\n",
    "from torchvision import datasets, transforms\n",
    "from tqdm.notebook import tqdm\n",
    "from utils import config\n",
    "\n",
    "c = config.Config()\n",
    "c.load('./config/default.toml')\n",
    "\n",
    "device = 'cuda' if torch.cuda.is_available() else 'cpu'\n",
    "\n",
    "def make_cond(labels):\n",
    "    cond_tensor = torch.zeros(labels.size(0), c.ncl).cuda()\n",
    "    if c.conditional:\n",
    "        cond_tensor.scatter_(1, labels.view(-1, 1), 1.)\n",
    "    else:\n",
    "        cond_tensor[:, 0] = 1\n",
    "    return cond_tensor\n",
    "\n",
    "fill = torch.zeros((10, 10, 32, 32), device=device)\n",
    "for i in range(10):\n",
    "    fill[i, i, :, :] = 1"
   ]
  },
  {
   "cell_type": "code",
   "execution_count": 2,
   "metadata": {
    "jupyter": {
     "source_hidden": true
    }
   },
   "outputs": [],
   "source": [
    "train_loader = torch.utils.data.DataLoader(\n",
    "    datasets.EMNIST('~/Data', split='digits', train=True, download=True,\n",
    "                    transform=transforms.Compose([\n",
    "                        transforms.Pad(2),\n",
    "                        transforms.ToTensor(),\n",
    "                        transforms.Normalize((0.5,), (0.5,)),\n",
    "                        transforms.Lambda(lambda x: x.permute(0, 2, 1)),\n",
    "                    ])),\n",
    "    batch_size=512, shuffle=False, pin_memory=True, num_workers=4,\n",
    "    drop_last=True\n",
    ")\n",
    "test_loader = torch.utils.data.DataLoader(\n",
    "    datasets.EMNIST('~/Data', split='digits', train=False, download=True,\n",
    "                    transform=transforms.Compose([\n",
    "                        transforms.Pad(2),\n",
    "                        transforms.ToTensor(),\n",
    "                        transforms.Normalize((0.5,), (0.5,)),\n",
    "                        transforms.Lambda(lambda x: x.permute(0, 2, 1)),\n",
    "                    ])),\n",
    "    batch_size=512, shuffle=True, pin_memory=True, num_workers=4,\n",
    "    drop_last=True\n",
    ")\n",
    "letter_loader = torch.utils.data.DataLoader(\n",
    "    datasets.EMNIST('~/Data', split='letters', train=True, download=True,\n",
    "                    transform=transforms.Compose([\n",
    "                        transforms.Pad(2),\n",
    "                        transforms.ToTensor(),\n",
    "                        transforms.Normalize((0.5,), (0.5,)),\n",
    "                        transforms.Lambda(lambda x: x.permute(0, 2, 1)),\n",
    "                    ])),\n",
    "    batch_size=512, shuffle=True, pin_memory=True, num_workers=4,\n",
    "    drop_last=True\n",
    ")\n",
    "fashion_loader = torch.utils.data.DataLoader(\n",
    "    datasets.FashionMNIST('~/Data', train=True, download=True,\n",
    "                    transform=transforms.Compose([\n",
    "                        transforms.Pad(2),\n",
    "                        transforms.ToTensor(),\n",
    "                        transforms.Normalize((0.5,), (0.5,)),\n",
    "                        transforms.Lambda(lambda x: x.permute(0, 2, 1)),\n",
    "                    ])),\n",
    "    batch_size=512, shuffle=True, pin_memory=True, num_workers=4,\n",
    "    drop_last=True\n",
    ")\n",
    "kmnist_loader = torch.utils.data.DataLoader(\n",
    "    datasets.KMNIST('~/Data', train=True, download=True,\n",
    "                    transform=transforms.Compose([\n",
    "                        transforms.Pad(2),\n",
    "                        transforms.ToTensor(),\n",
    "                        transforms.Normalize((0.5,), (0.5,)),\n",
    "                        transforms.Lambda(lambda x: x.permute(0, 2, 1)),\n",
    "                        # transforms.Lambda(lambda x: x.repeat(3, 1, 1)),\n",
    "                    ])),\n",
    "    batch_size=512, shuffle=True, pin_memory=True, num_workers=4,\n",
    "    drop_last=True\n",
    ")\n"
   ]
  },
  {
   "cell_type": "code",
   "execution_count": 8,
   "metadata": {
    "jupyter": {
     "source_hidden": true
    }
   },
   "outputs": [],
   "source": [
    "models_disc = {\n",
    "    'base_letters': 'Jun09_15-46-31_GLaDOS_DISCRIMINATOR',\n",
    "    'base_fashion': 'Jun13_21-01-11_GLaDOS_DISCRIMINATOR',\n",
    "    'inn': 'Jun09_13-20-28_GLaDOS_DISCRIMINATOR',\n",
    "#     'inn+minlh': '',\n",
    "    'deepaa_sq': 'Jun14_15-49-00_GLaDOS_DISCRIMINATOR',\n",
    "    'deepaa_linear': 'Jun13_20-08-48_GLaDOS_DISCRIMINATOR',\n",
    "    'deepaa_pre': 'Jun30_18-15-11_GLaDOS_DISCRIMINATOR'\n",
    "}\n",
    "models_class = {\n",
    "    'base': 'Jun14_17-10-51_GLaDOS_CLASSIFIER',\n",
    "    'base_letters': 'Jun13_21-23-28_GLaDOS_CLASSIFIER',\n",
    "    'base_fashion': 'Jun13_21-30-23_GLaDOS_CLASSIFIER',\n",
    "    'inn': 'Jun13_17-30-06_GLaDOS_CLASSIFIER',\n",
    "#     'inn+minlh': '',\n",
    "    'deepaa_linear': 'Jun13_20-50-34_GLaDOS_CLASSIFIER',\n",
    "    'deepaa_sq': 'Jun14_15-55-01_GLaDOS_CLASSIFIER',\n",
    "    'deepaa_pre': 'Jul01_13-28-04_GLaDOS_CLASSIFIER'\n",
    "}\n",
    "models_inn = {\n",
    "    'inn': 'May13_19-39-26_GLaDOS',\n",
    "#     'inn+minlh': ''\n",
    "}\n",
    "dsets = {\n",
    "    'mnist_train': train_loader,\n",
    "    'mnist_test': test_loader,\n",
    "    'letters': letter_loader,\n",
    "    'fashion': fashion_loader,\n",
    "    'kmnist': kmnist_loader,\n",
    "}\n",
    "    \n",
    "results_disc = pd.DataFrame(index=list(models_disc.keys()), columns=list(dsets.keys()), dtype=np.float64)\n",
    "results_class = pd.DataFrame(\n",
    "    index=list(models_class.keys()),\n",
    "    columns=[f'{k}_acc' for k in dsets.keys()] + [f'{k}_conf' for k in dsets.keys()] + [f'{k}_ind' for k in dsets.keys()],\n",
    "    dtype=np.float64\n",
    ")"
   ]
  },
  {
   "cell_type": "markdown",
   "metadata": {},
   "source": [
    "## Comparing Discriminators"
   ]
  },
  {
   "cell_type": "code",
   "execution_count": 4,
   "metadata": {
    "jupyter": {
     "source_hidden": true
    }
   },
   "outputs": [],
   "source": [
    "def discriminator_test(model, data_loader, t, rand_y=False):\n",
    "    with torch.no_grad():\n",
    "        positive = []\n",
    "        for x, y in tqdm(data_loader):\n",
    "            if rand_y:\n",
    "                y = torch.randint(10, (512,))\n",
    "            x, y = x.to(device), y.to(device)\n",
    "            output = torch.sigmoid(model(x, fill[y]).reshape(-1))\n",
    "            positive.append((output >= t).float().mean())\n",
    "\n",
    "        acc = torch.mean(torch.tensor(positive)).item()\n",
    "    return acc"
   ]
  },
  {
   "cell_type": "code",
   "execution_count": 6,
   "metadata": {
    "collapsed": true,
    "jupyter": {
     "outputs_hidden": true,
     "source_hidden": true
    }
   },
   "outputs": [
    {
     "data": {
      "application/vnd.jupyter.widget-view+json": {
       "model_id": "2fa3b2f38cf849dabc919f98618e0e58",
       "version_major": 2,
       "version_minor": 0
      },
      "text/plain": [
       "HBox(children=(FloatProgress(value=0.0, max=468.0), HTML(value='')))"
      ]
     },
     "metadata": {},
     "output_type": "display_data"
    },
    {
     "name": "stdout",
     "output_type": "stream",
     "text": [
      "\n"
     ]
    },
    {
     "data": {
      "application/vnd.jupyter.widget-view+json": {
       "model_id": "6d0bc2fb154345139b41a5dd7bbbbc34",
       "version_major": 2,
       "version_minor": 0
      },
      "text/plain": [
       "HBox(children=(FloatProgress(value=0.0, max=468.0), HTML(value='')))"
      ]
     },
     "metadata": {},
     "output_type": "display_data"
    },
    {
     "name": "stdout",
     "output_type": "stream",
     "text": [
      "\n"
     ]
    },
    {
     "data": {
      "application/vnd.jupyter.widget-view+json": {
       "model_id": "d31e2779a5084470bff149096af9e21e",
       "version_major": 2,
       "version_minor": 0
      },
      "text/plain": [
       "HBox(children=(FloatProgress(value=0.0, max=468.0), HTML(value='')))"
      ]
     },
     "metadata": {},
     "output_type": "display_data"
    },
    {
     "name": "stdout",
     "output_type": "stream",
     "text": [
      "\n"
     ]
    },
    {
     "data": {
      "application/vnd.jupyter.widget-view+json": {
       "model_id": "97433f3744cd47d096ad18eb0e782789",
       "version_major": 2,
       "version_minor": 0
      },
      "text/plain": [
       "HBox(children=(FloatProgress(value=0.0, max=468.0), HTML(value='')))"
      ]
     },
     "metadata": {},
     "output_type": "display_data"
    },
    {
     "name": "stdout",
     "output_type": "stream",
     "text": [
      "\n"
     ]
    },
    {
     "data": {
      "application/vnd.jupyter.widget-view+json": {
       "model_id": "ad76139d091a4646bb09e15b3bd1cefb",
       "version_major": 2,
       "version_minor": 0
      },
      "text/plain": [
       "HBox(children=(FloatProgress(value=0.0, max=468.0), HTML(value='')))"
      ]
     },
     "metadata": {},
     "output_type": "display_data"
    },
    {
     "name": "stdout",
     "output_type": "stream",
     "text": [
      "\n"
     ]
    },
    {
     "data": {
      "application/vnd.jupyter.widget-view+json": {
       "model_id": "79d171ab76054db48cbddca4c2f38289",
       "version_major": 2,
       "version_minor": 0
      },
      "text/plain": [
       "HBox(children=(FloatProgress(value=0.0, max=468.0), HTML(value='')))"
      ]
     },
     "metadata": {},
     "output_type": "display_data"
    },
    {
     "name": "stdout",
     "output_type": "stream",
     "text": [
      "\n"
     ]
    },
    {
     "data": {
      "application/vnd.jupyter.widget-view+json": {
       "model_id": "8c30d95df1f4444d80c6319220d8daf1",
       "version_major": 2,
       "version_minor": 0
      },
      "text/plain": [
       "HBox(children=(FloatProgress(value=0.0, max=78.0), HTML(value='')))"
      ]
     },
     "metadata": {},
     "output_type": "display_data"
    },
    {
     "name": "stdout",
     "output_type": "stream",
     "text": [
      "\n"
     ]
    },
    {
     "data": {
      "application/vnd.jupyter.widget-view+json": {
       "model_id": "500cbd1e045e46159257f69c1f2d33af",
       "version_major": 2,
       "version_minor": 0
      },
      "text/plain": [
       "HBox(children=(FloatProgress(value=0.0, max=78.0), HTML(value='')))"
      ]
     },
     "metadata": {},
     "output_type": "display_data"
    },
    {
     "name": "stdout",
     "output_type": "stream",
     "text": [
      "\n"
     ]
    },
    {
     "data": {
      "application/vnd.jupyter.widget-view+json": {
       "model_id": "0c72d79c31e74c9184fc889fe561cfad",
       "version_major": 2,
       "version_minor": 0
      },
      "text/plain": [
       "HBox(children=(FloatProgress(value=0.0, max=78.0), HTML(value='')))"
      ]
     },
     "metadata": {},
     "output_type": "display_data"
    },
    {
     "name": "stdout",
     "output_type": "stream",
     "text": [
      "\n"
     ]
    },
    {
     "data": {
      "application/vnd.jupyter.widget-view+json": {
       "model_id": "30707e0143d944c59662f7e5a5145ac7",
       "version_major": 2,
       "version_minor": 0
      },
      "text/plain": [
       "HBox(children=(FloatProgress(value=0.0, max=78.0), HTML(value='')))"
      ]
     },
     "metadata": {},
     "output_type": "display_data"
    },
    {
     "name": "stdout",
     "output_type": "stream",
     "text": [
      "\n"
     ]
    },
    {
     "data": {
      "application/vnd.jupyter.widget-view+json": {
       "model_id": "cb1956f721b74494a925d5c6f29e7317",
       "version_major": 2,
       "version_minor": 0
      },
      "text/plain": [
       "HBox(children=(FloatProgress(value=0.0, max=78.0), HTML(value='')))"
      ]
     },
     "metadata": {},
     "output_type": "display_data"
    },
    {
     "name": "stdout",
     "output_type": "stream",
     "text": [
      "\n"
     ]
    },
    {
     "data": {
      "application/vnd.jupyter.widget-view+json": {
       "model_id": "485ebf5bf3f34365b92a1ee441cd15b3",
       "version_major": 2,
       "version_minor": 0
      },
      "text/plain": [
       "HBox(children=(FloatProgress(value=0.0, max=78.0), HTML(value='')))"
      ]
     },
     "metadata": {},
     "output_type": "display_data"
    },
    {
     "name": "stdout",
     "output_type": "stream",
     "text": [
      "\n"
     ]
    },
    {
     "data": {
      "application/vnd.jupyter.widget-view+json": {
       "model_id": "41b53560308c4a028ffef1de2b6dda6d",
       "version_major": 2,
       "version_minor": 0
      },
      "text/plain": [
       "HBox(children=(FloatProgress(value=0.0, max=243.0), HTML(value='')))"
      ]
     },
     "metadata": {},
     "output_type": "display_data"
    },
    {
     "name": "stdout",
     "output_type": "stream",
     "text": [
      "\n"
     ]
    },
    {
     "data": {
      "application/vnd.jupyter.widget-view+json": {
       "model_id": "55b11be1ba804956b2328025aa4b308d",
       "version_major": 2,
       "version_minor": 0
      },
      "text/plain": [
       "HBox(children=(FloatProgress(value=0.0, max=243.0), HTML(value='')))"
      ]
     },
     "metadata": {},
     "output_type": "display_data"
    },
    {
     "name": "stdout",
     "output_type": "stream",
     "text": [
      "\n"
     ]
    },
    {
     "data": {
      "application/vnd.jupyter.widget-view+json": {
       "model_id": "2f1c5c4401be45e68638d6d1ade76537",
       "version_major": 2,
       "version_minor": 0
      },
      "text/plain": [
       "HBox(children=(FloatProgress(value=0.0, max=243.0), HTML(value='')))"
      ]
     },
     "metadata": {},
     "output_type": "display_data"
    },
    {
     "name": "stdout",
     "output_type": "stream",
     "text": [
      "\n"
     ]
    },
    {
     "data": {
      "application/vnd.jupyter.widget-view+json": {
       "model_id": "671881c6fb8d497fb7c5c1687c96bc1c",
       "version_major": 2,
       "version_minor": 0
      },
      "text/plain": [
       "HBox(children=(FloatProgress(value=0.0, max=243.0), HTML(value='')))"
      ]
     },
     "metadata": {},
     "output_type": "display_data"
    },
    {
     "name": "stdout",
     "output_type": "stream",
     "text": [
      "\n"
     ]
    },
    {
     "data": {
      "application/vnd.jupyter.widget-view+json": {
       "model_id": "84263ccb94714f57a4ba79e244a62579",
       "version_major": 2,
       "version_minor": 0
      },
      "text/plain": [
       "HBox(children=(FloatProgress(value=0.0, max=243.0), HTML(value='')))"
      ]
     },
     "metadata": {},
     "output_type": "display_data"
    },
    {
     "name": "stdout",
     "output_type": "stream",
     "text": [
      "\n"
     ]
    },
    {
     "data": {
      "application/vnd.jupyter.widget-view+json": {
       "model_id": "4cb7752a87c64dcaa80c818dcfa183aa",
       "version_major": 2,
       "version_minor": 0
      },
      "text/plain": [
       "HBox(children=(FloatProgress(value=0.0, max=243.0), HTML(value='')))"
      ]
     },
     "metadata": {},
     "output_type": "display_data"
    },
    {
     "name": "stdout",
     "output_type": "stream",
     "text": [
      "\n"
     ]
    },
    {
     "data": {
      "application/vnd.jupyter.widget-view+json": {
       "model_id": "76a9a9765cc447f79d977239fa99f2f9",
       "version_major": 2,
       "version_minor": 0
      },
      "text/plain": [
       "HBox(children=(FloatProgress(value=0.0, max=117.0), HTML(value='')))"
      ]
     },
     "metadata": {},
     "output_type": "display_data"
    },
    {
     "name": "stdout",
     "output_type": "stream",
     "text": [
      "\n"
     ]
    },
    {
     "data": {
      "application/vnd.jupyter.widget-view+json": {
       "model_id": "01ef325f43414a6889c449906bec813e",
       "version_major": 2,
       "version_minor": 0
      },
      "text/plain": [
       "HBox(children=(FloatProgress(value=0.0, max=117.0), HTML(value='')))"
      ]
     },
     "metadata": {},
     "output_type": "display_data"
    },
    {
     "name": "stdout",
     "output_type": "stream",
     "text": [
      "\n"
     ]
    },
    {
     "data": {
      "application/vnd.jupyter.widget-view+json": {
       "model_id": "7fb8e4873266403c902fbe0a6d7ae7ec",
       "version_major": 2,
       "version_minor": 0
      },
      "text/plain": [
       "HBox(children=(FloatProgress(value=0.0, max=117.0), HTML(value='')))"
      ]
     },
     "metadata": {},
     "output_type": "display_data"
    },
    {
     "name": "stdout",
     "output_type": "stream",
     "text": [
      "\n"
     ]
    },
    {
     "data": {
      "application/vnd.jupyter.widget-view+json": {
       "model_id": "6d4ad7498e194bc48eca2dd5258d73df",
       "version_major": 2,
       "version_minor": 0
      },
      "text/plain": [
       "HBox(children=(FloatProgress(value=0.0, max=117.0), HTML(value='')))"
      ]
     },
     "metadata": {},
     "output_type": "display_data"
    },
    {
     "name": "stdout",
     "output_type": "stream",
     "text": [
      "\n"
     ]
    },
    {
     "data": {
      "application/vnd.jupyter.widget-view+json": {
       "model_id": "4c03ea0629e24a1cb52ea2cade03dafc",
       "version_major": 2,
       "version_minor": 0
      },
      "text/plain": [
       "HBox(children=(FloatProgress(value=0.0, max=117.0), HTML(value='')))"
      ]
     },
     "metadata": {},
     "output_type": "display_data"
    },
    {
     "name": "stdout",
     "output_type": "stream",
     "text": [
      "\n"
     ]
    },
    {
     "data": {
      "application/vnd.jupyter.widget-view+json": {
       "model_id": "154719339b02447498b66178a2ed7e0a",
       "version_major": 2,
       "version_minor": 0
      },
      "text/plain": [
       "HBox(children=(FloatProgress(value=0.0, max=117.0), HTML(value='')))"
      ]
     },
     "metadata": {},
     "output_type": "display_data"
    },
    {
     "name": "stdout",
     "output_type": "stream",
     "text": [
      "\n"
     ]
    },
    {
     "data": {
      "application/vnd.jupyter.widget-view+json": {
       "model_id": "2a80677649324cc4965cc79f76f4f0f4",
       "version_major": 2,
       "version_minor": 0
      },
      "text/plain": [
       "HBox(children=(FloatProgress(value=0.0, max=117.0), HTML(value='')))"
      ]
     },
     "metadata": {},
     "output_type": "display_data"
    },
    {
     "name": "stdout",
     "output_type": "stream",
     "text": [
      "\n"
     ]
    },
    {
     "data": {
      "application/vnd.jupyter.widget-view+json": {
       "model_id": "7d85df9650744c3abd3070e5177ac349",
       "version_major": 2,
       "version_minor": 0
      },
      "text/plain": [
       "HBox(children=(FloatProgress(value=0.0, max=117.0), HTML(value='')))"
      ]
     },
     "metadata": {},
     "output_type": "display_data"
    },
    {
     "name": "stdout",
     "output_type": "stream",
     "text": [
      "\n"
     ]
    },
    {
     "data": {
      "application/vnd.jupyter.widget-view+json": {
       "model_id": "ca768ca34fd3476ea9c843d422d4d65e",
       "version_major": 2,
       "version_minor": 0
      },
      "text/plain": [
       "HBox(children=(FloatProgress(value=0.0, max=117.0), HTML(value='')))"
      ]
     },
     "metadata": {},
     "output_type": "display_data"
    },
    {
     "name": "stdout",
     "output_type": "stream",
     "text": [
      "\n"
     ]
    },
    {
     "data": {
      "application/vnd.jupyter.widget-view+json": {
       "model_id": "875b120a275146c5a2d065d6f726974d",
       "version_major": 2,
       "version_minor": 0
      },
      "text/plain": [
       "HBox(children=(FloatProgress(value=0.0, max=117.0), HTML(value='')))"
      ]
     },
     "metadata": {},
     "output_type": "display_data"
    },
    {
     "name": "stdout",
     "output_type": "stream",
     "text": [
      "\n"
     ]
    },
    {
     "data": {
      "application/vnd.jupyter.widget-view+json": {
       "model_id": "3b09f4d521f34bb7aa240eee28fedf8c",
       "version_major": 2,
       "version_minor": 0
      },
      "text/plain": [
       "HBox(children=(FloatProgress(value=0.0, max=117.0), HTML(value='')))"
      ]
     },
     "metadata": {},
     "output_type": "display_data"
    },
    {
     "name": "stdout",
     "output_type": "stream",
     "text": [
      "\n"
     ]
    },
    {
     "data": {
      "application/vnd.jupyter.widget-view+json": {
       "model_id": "e2ec00d7506b4e339c082cf597cdf854",
       "version_major": 2,
       "version_minor": 0
      },
      "text/plain": [
       "HBox(children=(FloatProgress(value=0.0, max=117.0), HTML(value='')))"
      ]
     },
     "metadata": {},
     "output_type": "display_data"
    },
    {
     "name": "stdout",
     "output_type": "stream",
     "text": [
      "\n"
     ]
    }
   ],
   "source": [
    "for k_d, data_loader in dsets.items():\n",
    "    for k_m, v_m in models_disc.items():\n",
    "        if v_m is '':\n",
    "            continue\n",
    "            \n",
    "        model = Discriminator(c, conditional=True)\n",
    "        pre = '../archetypal_analysis/' if k_m.startswith('deepaa') else ''\n",
    "        model.load_state_dict(dict(filter(lambda x: 'tmp' not in x[0], torch.load(f'{pre}runs/{v_m}/checkpoints/discriminator.pt').items())))\n",
    "        model.to(device)\n",
    "#         model.eval()\n",
    "        \n",
    "        # TODO: bootstrap threshold\n",
    "        t = 0.7\n",
    "        \n",
    "        acc = discriminator_test(model, data_loader, t, rand_y=(not k_d.startswith('mnist')))\n",
    "        \n",
    "#         print(f'{k_m} on {k_d}: {acc}')\n",
    "        \n",
    "        results_disc[k_d][k_m] = acc"
   ]
  },
  {
   "cell_type": "code",
   "execution_count": 7,
   "metadata": {},
   "outputs": [
    {
     "data": {
      "text/html": [
       "<div>\n",
       "<style scoped>\n",
       "    .dataframe tbody tr th:only-of-type {\n",
       "        vertical-align: middle;\n",
       "    }\n",
       "\n",
       "    .dataframe tbody tr th {\n",
       "        vertical-align: top;\n",
       "    }\n",
       "\n",
       "    .dataframe thead th {\n",
       "        text-align: right;\n",
       "    }\n",
       "</style>\n",
       "<table border=\"1\" class=\"dataframe\">\n",
       "  <thead>\n",
       "    <tr style=\"text-align: right;\">\n",
       "      <th></th>\n",
       "      <th>mnist_train</th>\n",
       "      <th>mnist_test</th>\n",
       "      <th>letters</th>\n",
       "      <th>fashion</th>\n",
       "      <th>kmnist</th>\n",
       "    </tr>\n",
       "  </thead>\n",
       "  <tbody>\n",
       "    <tr>\n",
       "      <th>base_letters</th>\n",
       "      <td>1.000</td>\n",
       "      <td>1.000</td>\n",
       "      <td>0.000</td>\n",
       "      <td>0.000</td>\n",
       "      <td>0.004</td>\n",
       "    </tr>\n",
       "    <tr>\n",
       "      <th>base_fashion</th>\n",
       "      <td>1.000</td>\n",
       "      <td>1.000</td>\n",
       "      <td>1.000</td>\n",
       "      <td>0.000</td>\n",
       "      <td>0.901</td>\n",
       "    </tr>\n",
       "    <tr>\n",
       "      <th>inn</th>\n",
       "      <td>0.989</td>\n",
       "      <td>0.990</td>\n",
       "      <td>0.000</td>\n",
       "      <td>0.000</td>\n",
       "      <td>0.000</td>\n",
       "    </tr>\n",
       "    <tr>\n",
       "      <th>deepaa_sq</th>\n",
       "      <td>1.000</td>\n",
       "      <td>1.000</td>\n",
       "      <td>1.000</td>\n",
       "      <td>1.000</td>\n",
       "      <td>1.000</td>\n",
       "    </tr>\n",
       "    <tr>\n",
       "      <th>deepaa_linear</th>\n",
       "      <td>0.864</td>\n",
       "      <td>0.865</td>\n",
       "      <td>0.616</td>\n",
       "      <td>0.282</td>\n",
       "      <td>0.178</td>\n",
       "    </tr>\n",
       "    <tr>\n",
       "      <th>deepaa_pre</th>\n",
       "      <td>1.000</td>\n",
       "      <td>1.000</td>\n",
       "      <td>0.621</td>\n",
       "      <td>0.000</td>\n",
       "      <td>0.000</td>\n",
       "    </tr>\n",
       "  </tbody>\n",
       "</table>\n",
       "</div>"
      ],
      "text/plain": [
       "               mnist_train  mnist_test  letters  fashion  kmnist\n",
       "base_letters         1.000       1.000    0.000    0.000   0.004\n",
       "base_fashion         1.000       1.000    1.000    0.000   0.901\n",
       "inn                  0.989       0.990    0.000    0.000   0.000\n",
       "deepaa_sq            1.000       1.000    1.000    1.000   1.000\n",
       "deepaa_linear        0.864       0.865    0.616    0.282   0.178\n",
       "deepaa_pre           1.000       1.000    0.621    0.000   0.000"
      ]
     },
     "execution_count": 7,
     "metadata": {},
     "output_type": "execute_result"
    }
   ],
   "source": [
    "results_disc.round(3)"
   ]
  },
  {
   "cell_type": "markdown",
   "metadata": {},
   "source": [
    "## Comparing Classifiers"
   ]
  },
  {
   "cell_type": "code",
   "execution_count": 9,
   "metadata": {
    "jupyter": {
     "source_hidden": true
    }
   },
   "outputs": [],
   "source": [
    "def classifier_test(model, data_loader, t, rand_y=False):\n",
    "    with torch.no_grad():\n",
    "        acc = torch.empty(0, dtype=torch.float, device=device)\n",
    "        confidence = torch.empty(0, dtype=torch.float, device=device)\n",
    "        positive = torch.empty(0, dtype=torch.float, device=device)\n",
    "\n",
    "        for x, y in tqdm(data_loader):\n",
    "            if rand_y:\n",
    "                y = torch.randint(10, (512,))\n",
    "            x, y = x.to(device), y.to(device)\n",
    "            x = x.repeat(1, 3, 1, 1)\n",
    "            output = model(x)\n",
    "            confidence = torch.cat([confidence, F.softmax(output, dim=1).max(dim=1)[0].mean().reshape(1)], dim=0)\n",
    "            positive = torch.cat([positive, (F.softmax(output, dim=1).max(dim=1)[0] >= t).float().mean().reshape(1)], dim=0)\n",
    "            acc = torch.cat([acc, (F.softmax(output, dim=1).max(dim=1)[1] == y).float().mean().reshape(1)], dim=0)\n",
    "\n",
    "    return acc.mean().item(), confidence.mean().item(), positive.mean().item()"
   ]
  },
  {
   "cell_type": "code",
   "execution_count": 10,
   "metadata": {
    "collapsed": true,
    "jupyter": {
     "outputs_hidden": true,
     "source_hidden": true
    }
   },
   "outputs": [
    {
     "data": {
      "application/vnd.jupyter.widget-view+json": {
       "model_id": "9196b29ba85148c5b6118fd1c3d63bdf",
       "version_major": 2,
       "version_minor": 0
      },
      "text/plain": [
       "HBox(children=(FloatProgress(value=0.0, max=468.0), HTML(value='')))"
      ]
     },
     "metadata": {},
     "output_type": "display_data"
    },
    {
     "name": "stdout",
     "output_type": "stream",
     "text": [
      "\n"
     ]
    },
    {
     "data": {
      "application/vnd.jupyter.widget-view+json": {
       "model_id": "39334ef87fa045fcb10bc130e20a6e7c",
       "version_major": 2,
       "version_minor": 0
      },
      "text/plain": [
       "HBox(children=(FloatProgress(value=0.0, max=468.0), HTML(value='')))"
      ]
     },
     "metadata": {},
     "output_type": "display_data"
    },
    {
     "name": "stdout",
     "output_type": "stream",
     "text": [
      "\n"
     ]
    },
    {
     "data": {
      "application/vnd.jupyter.widget-view+json": {
       "model_id": "c3e30783316140489c034692fb6aa44e",
       "version_major": 2,
       "version_minor": 0
      },
      "text/plain": [
       "HBox(children=(FloatProgress(value=0.0, max=468.0), HTML(value='')))"
      ]
     },
     "metadata": {},
     "output_type": "display_data"
    },
    {
     "name": "stdout",
     "output_type": "stream",
     "text": [
      "\n"
     ]
    },
    {
     "data": {
      "application/vnd.jupyter.widget-view+json": {
       "model_id": "7a9cef3e16ec46539bd47d055106ed2e",
       "version_major": 2,
       "version_minor": 0
      },
      "text/plain": [
       "HBox(children=(FloatProgress(value=0.0, max=468.0), HTML(value='')))"
      ]
     },
     "metadata": {},
     "output_type": "display_data"
    },
    {
     "name": "stdout",
     "output_type": "stream",
     "text": [
      "\n"
     ]
    },
    {
     "data": {
      "application/vnd.jupyter.widget-view+json": {
       "model_id": "8308e0220d684262abcbab0a4ac341e2",
       "version_major": 2,
       "version_minor": 0
      },
      "text/plain": [
       "HBox(children=(FloatProgress(value=0.0, max=468.0), HTML(value='')))"
      ]
     },
     "metadata": {},
     "output_type": "display_data"
    },
    {
     "name": "stdout",
     "output_type": "stream",
     "text": [
      "\n"
     ]
    },
    {
     "data": {
      "application/vnd.jupyter.widget-view+json": {
       "model_id": "7c8914f84dd04e2792edc3314560185c",
       "version_major": 2,
       "version_minor": 0
      },
      "text/plain": [
       "HBox(children=(FloatProgress(value=0.0, max=468.0), HTML(value='')))"
      ]
     },
     "metadata": {},
     "output_type": "display_data"
    },
    {
     "name": "stdout",
     "output_type": "stream",
     "text": [
      "\n"
     ]
    },
    {
     "data": {
      "application/vnd.jupyter.widget-view+json": {
       "model_id": "0aff2690150945c9b45b00df4014e905",
       "version_major": 2,
       "version_minor": 0
      },
      "text/plain": [
       "HBox(children=(FloatProgress(value=0.0, max=468.0), HTML(value='')))"
      ]
     },
     "metadata": {},
     "output_type": "display_data"
    },
    {
     "name": "stdout",
     "output_type": "stream",
     "text": [
      "\n"
     ]
    },
    {
     "data": {
      "application/vnd.jupyter.widget-view+json": {
       "model_id": "a3fee63e01404e5cacd64a142750599d",
       "version_major": 2,
       "version_minor": 0
      },
      "text/plain": [
       "HBox(children=(FloatProgress(value=0.0, max=78.0), HTML(value='')))"
      ]
     },
     "metadata": {},
     "output_type": "display_data"
    },
    {
     "name": "stdout",
     "output_type": "stream",
     "text": [
      "\n"
     ]
    },
    {
     "data": {
      "application/vnd.jupyter.widget-view+json": {
       "model_id": "8ad8d478027443ce8cacef7d8c015ff9",
       "version_major": 2,
       "version_minor": 0
      },
      "text/plain": [
       "HBox(children=(FloatProgress(value=0.0, max=78.0), HTML(value='')))"
      ]
     },
     "metadata": {},
     "output_type": "display_data"
    },
    {
     "name": "stdout",
     "output_type": "stream",
     "text": [
      "\n"
     ]
    },
    {
     "data": {
      "application/vnd.jupyter.widget-view+json": {
       "model_id": "7606dad8f1f54d449b39b6c83c76f8f1",
       "version_major": 2,
       "version_minor": 0
      },
      "text/plain": [
       "HBox(children=(FloatProgress(value=0.0, max=78.0), HTML(value='')))"
      ]
     },
     "metadata": {},
     "output_type": "display_data"
    },
    {
     "name": "stdout",
     "output_type": "stream",
     "text": [
      "\n"
     ]
    },
    {
     "data": {
      "application/vnd.jupyter.widget-view+json": {
       "model_id": "7bb79767cbe94460b08013286d56c8b8",
       "version_major": 2,
       "version_minor": 0
      },
      "text/plain": [
       "HBox(children=(FloatProgress(value=0.0, max=78.0), HTML(value='')))"
      ]
     },
     "metadata": {},
     "output_type": "display_data"
    },
    {
     "name": "stdout",
     "output_type": "stream",
     "text": [
      "\n"
     ]
    },
    {
     "data": {
      "application/vnd.jupyter.widget-view+json": {
       "model_id": "33156719530b41bab2e8131179b6b583",
       "version_major": 2,
       "version_minor": 0
      },
      "text/plain": [
       "HBox(children=(FloatProgress(value=0.0, max=78.0), HTML(value='')))"
      ]
     },
     "metadata": {},
     "output_type": "display_data"
    },
    {
     "name": "stdout",
     "output_type": "stream",
     "text": [
      "\n"
     ]
    },
    {
     "data": {
      "application/vnd.jupyter.widget-view+json": {
       "model_id": "8abf01288868473b87cfa55ca911d13b",
       "version_major": 2,
       "version_minor": 0
      },
      "text/plain": [
       "HBox(children=(FloatProgress(value=0.0, max=78.0), HTML(value='')))"
      ]
     },
     "metadata": {},
     "output_type": "display_data"
    },
    {
     "name": "stdout",
     "output_type": "stream",
     "text": [
      "\n"
     ]
    },
    {
     "data": {
      "application/vnd.jupyter.widget-view+json": {
       "model_id": "9ad2a492c6264ed795bb772adb8b274e",
       "version_major": 2,
       "version_minor": 0
      },
      "text/plain": [
       "HBox(children=(FloatProgress(value=0.0, max=78.0), HTML(value='')))"
      ]
     },
     "metadata": {},
     "output_type": "display_data"
    },
    {
     "name": "stdout",
     "output_type": "stream",
     "text": [
      "\n"
     ]
    },
    {
     "data": {
      "application/vnd.jupyter.widget-view+json": {
       "model_id": "b9672239fd6a46ec8252ed5f1acda478",
       "version_major": 2,
       "version_minor": 0
      },
      "text/plain": [
       "HBox(children=(FloatProgress(value=0.0, max=243.0), HTML(value='')))"
      ]
     },
     "metadata": {},
     "output_type": "display_data"
    },
    {
     "name": "stdout",
     "output_type": "stream",
     "text": [
      "\n"
     ]
    },
    {
     "data": {
      "application/vnd.jupyter.widget-view+json": {
       "model_id": "d06b389a0a0141498b901f1f65dd64fa",
       "version_major": 2,
       "version_minor": 0
      },
      "text/plain": [
       "HBox(children=(FloatProgress(value=0.0, max=243.0), HTML(value='')))"
      ]
     },
     "metadata": {},
     "output_type": "display_data"
    },
    {
     "name": "stdout",
     "output_type": "stream",
     "text": [
      "\n"
     ]
    },
    {
     "data": {
      "application/vnd.jupyter.widget-view+json": {
       "model_id": "8f96e807a017473080acd064e44c5b64",
       "version_major": 2,
       "version_minor": 0
      },
      "text/plain": [
       "HBox(children=(FloatProgress(value=0.0, max=243.0), HTML(value='')))"
      ]
     },
     "metadata": {},
     "output_type": "display_data"
    },
    {
     "name": "stdout",
     "output_type": "stream",
     "text": [
      "\n"
     ]
    },
    {
     "data": {
      "application/vnd.jupyter.widget-view+json": {
       "model_id": "8620c08d8c74443197e2f124965a33ae",
       "version_major": 2,
       "version_minor": 0
      },
      "text/plain": [
       "HBox(children=(FloatProgress(value=0.0, max=243.0), HTML(value='')))"
      ]
     },
     "metadata": {},
     "output_type": "display_data"
    },
    {
     "name": "stdout",
     "output_type": "stream",
     "text": [
      "\n"
     ]
    },
    {
     "data": {
      "application/vnd.jupyter.widget-view+json": {
       "model_id": "40fc716991ea412983a8a63b8edb1f7f",
       "version_major": 2,
       "version_minor": 0
      },
      "text/plain": [
       "HBox(children=(FloatProgress(value=0.0, max=243.0), HTML(value='')))"
      ]
     },
     "metadata": {},
     "output_type": "display_data"
    },
    {
     "name": "stdout",
     "output_type": "stream",
     "text": [
      "\n"
     ]
    },
    {
     "data": {
      "application/vnd.jupyter.widget-view+json": {
       "model_id": "85a340c241bf498f9880c417e31c3247",
       "version_major": 2,
       "version_minor": 0
      },
      "text/plain": [
       "HBox(children=(FloatProgress(value=0.0, max=243.0), HTML(value='')))"
      ]
     },
     "metadata": {},
     "output_type": "display_data"
    },
    {
     "name": "stdout",
     "output_type": "stream",
     "text": [
      "\n"
     ]
    },
    {
     "data": {
      "application/vnd.jupyter.widget-view+json": {
       "model_id": "9902ce7e5ee142808efe07fef8c3c8ae",
       "version_major": 2,
       "version_minor": 0
      },
      "text/plain": [
       "HBox(children=(FloatProgress(value=0.0, max=243.0), HTML(value='')))"
      ]
     },
     "metadata": {},
     "output_type": "display_data"
    },
    {
     "name": "stdout",
     "output_type": "stream",
     "text": [
      "\n"
     ]
    },
    {
     "data": {
      "application/vnd.jupyter.widget-view+json": {
       "model_id": "4e8ec4dac2e04188a9cd0cc1234d3bdb",
       "version_major": 2,
       "version_minor": 0
      },
      "text/plain": [
       "HBox(children=(FloatProgress(value=0.0, max=117.0), HTML(value='')))"
      ]
     },
     "metadata": {},
     "output_type": "display_data"
    },
    {
     "name": "stdout",
     "output_type": "stream",
     "text": [
      "\n"
     ]
    },
    {
     "data": {
      "application/vnd.jupyter.widget-view+json": {
       "model_id": "13878537180d4cf4b16d0a138941197e",
       "version_major": 2,
       "version_minor": 0
      },
      "text/plain": [
       "HBox(children=(FloatProgress(value=0.0, max=117.0), HTML(value='')))"
      ]
     },
     "metadata": {},
     "output_type": "display_data"
    },
    {
     "name": "stdout",
     "output_type": "stream",
     "text": [
      "\n"
     ]
    },
    {
     "data": {
      "application/vnd.jupyter.widget-view+json": {
       "model_id": "fa4efbad4e1946c9b0fe6a28283e33ad",
       "version_major": 2,
       "version_minor": 0
      },
      "text/plain": [
       "HBox(children=(FloatProgress(value=0.0, max=117.0), HTML(value='')))"
      ]
     },
     "metadata": {},
     "output_type": "display_data"
    },
    {
     "name": "stdout",
     "output_type": "stream",
     "text": [
      "\n"
     ]
    },
    {
     "data": {
      "application/vnd.jupyter.widget-view+json": {
       "model_id": "0957376a20fe413e95c4aa7a641b80f8",
       "version_major": 2,
       "version_minor": 0
      },
      "text/plain": [
       "HBox(children=(FloatProgress(value=0.0, max=117.0), HTML(value='')))"
      ]
     },
     "metadata": {},
     "output_type": "display_data"
    },
    {
     "name": "stdout",
     "output_type": "stream",
     "text": [
      "\n"
     ]
    },
    {
     "data": {
      "application/vnd.jupyter.widget-view+json": {
       "model_id": "13e4101bbe9d4a48bea2626f5fe075a9",
       "version_major": 2,
       "version_minor": 0
      },
      "text/plain": [
       "HBox(children=(FloatProgress(value=0.0, max=117.0), HTML(value='')))"
      ]
     },
     "metadata": {},
     "output_type": "display_data"
    },
    {
     "name": "stdout",
     "output_type": "stream",
     "text": [
      "\n"
     ]
    },
    {
     "data": {
      "application/vnd.jupyter.widget-view+json": {
       "model_id": "3aa046b59723440abc80d76c1538589c",
       "version_major": 2,
       "version_minor": 0
      },
      "text/plain": [
       "HBox(children=(FloatProgress(value=0.0, max=117.0), HTML(value='')))"
      ]
     },
     "metadata": {},
     "output_type": "display_data"
    },
    {
     "name": "stdout",
     "output_type": "stream",
     "text": [
      "\n"
     ]
    },
    {
     "data": {
      "application/vnd.jupyter.widget-view+json": {
       "model_id": "ca47116db22045558430f476b3cdd35e",
       "version_major": 2,
       "version_minor": 0
      },
      "text/plain": [
       "HBox(children=(FloatProgress(value=0.0, max=117.0), HTML(value='')))"
      ]
     },
     "metadata": {},
     "output_type": "display_data"
    },
    {
     "name": "stdout",
     "output_type": "stream",
     "text": [
      "\n"
     ]
    },
    {
     "data": {
      "application/vnd.jupyter.widget-view+json": {
       "model_id": "7179a0d8ed6b4c7097107089c5aba56a",
       "version_major": 2,
       "version_minor": 0
      },
      "text/plain": [
       "HBox(children=(FloatProgress(value=0.0, max=117.0), HTML(value='')))"
      ]
     },
     "metadata": {},
     "output_type": "display_data"
    },
    {
     "name": "stdout",
     "output_type": "stream",
     "text": [
      "\n"
     ]
    },
    {
     "data": {
      "application/vnd.jupyter.widget-view+json": {
       "model_id": "fd206638439a4369905fc853500beb87",
       "version_major": 2,
       "version_minor": 0
      },
      "text/plain": [
       "HBox(children=(FloatProgress(value=0.0, max=117.0), HTML(value='')))"
      ]
     },
     "metadata": {},
     "output_type": "display_data"
    },
    {
     "name": "stdout",
     "output_type": "stream",
     "text": [
      "\n"
     ]
    },
    {
     "data": {
      "application/vnd.jupyter.widget-view+json": {
       "model_id": "af7b5ab70aa249618a34e9870804b2bb",
       "version_major": 2,
       "version_minor": 0
      },
      "text/plain": [
       "HBox(children=(FloatProgress(value=0.0, max=117.0), HTML(value='')))"
      ]
     },
     "metadata": {},
     "output_type": "display_data"
    },
    {
     "name": "stdout",
     "output_type": "stream",
     "text": [
      "\n"
     ]
    },
    {
     "data": {
      "application/vnd.jupyter.widget-view+json": {
       "model_id": "1ffc8eba86b1406bb8b4509bd571cf00",
       "version_major": 2,
       "version_minor": 0
      },
      "text/plain": [
       "HBox(children=(FloatProgress(value=0.0, max=117.0), HTML(value='')))"
      ]
     },
     "metadata": {},
     "output_type": "display_data"
    },
    {
     "name": "stdout",
     "output_type": "stream",
     "text": [
      "\n"
     ]
    },
    {
     "data": {
      "application/vnd.jupyter.widget-view+json": {
       "model_id": "c8b122d68042489e80550d942409cd67",
       "version_major": 2,
       "version_minor": 0
      },
      "text/plain": [
       "HBox(children=(FloatProgress(value=0.0, max=117.0), HTML(value='')))"
      ]
     },
     "metadata": {},
     "output_type": "display_data"
    },
    {
     "name": "stdout",
     "output_type": "stream",
     "text": [
      "\n"
     ]
    },
    {
     "data": {
      "application/vnd.jupyter.widget-view+json": {
       "model_id": "8c6de8b2fdf34ed0a68e1c75a3a7696a",
       "version_major": 2,
       "version_minor": 0
      },
      "text/plain": [
       "HBox(children=(FloatProgress(value=0.0, max=117.0), HTML(value='')))"
      ]
     },
     "metadata": {},
     "output_type": "display_data"
    },
    {
     "name": "stdout",
     "output_type": "stream",
     "text": [
      "\n"
     ]
    },
    {
     "data": {
      "application/vnd.jupyter.widget-view+json": {
       "model_id": "14402e626c1f440f905877aeaecaa342",
       "version_major": 2,
       "version_minor": 0
      },
      "text/plain": [
       "HBox(children=(FloatProgress(value=0.0, max=117.0), HTML(value='')))"
      ]
     },
     "metadata": {},
     "output_type": "display_data"
    },
    {
     "name": "stdout",
     "output_type": "stream",
     "text": [
      "\n"
     ]
    }
   ],
   "source": [
    "for k_d, data_loader in dsets.items():\n",
    "    for k_m, v_m in models_class.items():\n",
    "        if v_m is '':\n",
    "            continue\n",
    "            \n",
    "        model = torchvision.models.vgg11(num_classes=10).to(device)\n",
    "        pre = '../archetypal_analysis/' if k_m.startswith('deepaa') else ''\n",
    "        model.load_state_dict(dict(filter(lambda x: 'tmp' not in x[0], torch.load(f'{pre}runs/{v_m}/checkpoints/classifier.pt').items())))\n",
    "        model.to(device)\n",
    "#         model.eval()\n",
    "        \n",
    "        # TODO: bootstrap threshold\n",
    "        if k_m.startswith('deepaa'):\n",
    "            t = 0.85\n",
    "        elif k_m.startswith('inn'):\n",
    "            t = 0.6\n",
    "        else:\n",
    "            t = 0.7\n",
    "        \n",
    "        acc, confidence, positive = classifier_test(model, data_loader, t, rand_y=(not k_d.startswith('mnist')))\n",
    "        \n",
    "#         print(f'{k_m} on {k_d}: {acc}')\n",
    "        \n",
    "        results_class[f'{k_d}_acc'][k_m] = acc\n",
    "        results_class[f'{k_d}_conf'][k_m] = confidence\n",
    "        results_class[f'{k_d}_ind'][k_m] = positive"
   ]
  },
  {
   "cell_type": "code",
   "execution_count": 11,
   "metadata": {},
   "outputs": [
    {
     "data": {
      "text/html": [
       "<div>\n",
       "<style scoped>\n",
       "    .dataframe tbody tr th:only-of-type {\n",
       "        vertical-align: middle;\n",
       "    }\n",
       "\n",
       "    .dataframe tbody tr th {\n",
       "        vertical-align: top;\n",
       "    }\n",
       "\n",
       "    .dataframe thead th {\n",
       "        text-align: right;\n",
       "    }\n",
       "</style>\n",
       "<table border=\"1\" class=\"dataframe\">\n",
       "  <thead>\n",
       "    <tr style=\"text-align: right;\">\n",
       "      <th></th>\n",
       "      <th>mnist_train_acc</th>\n",
       "      <th>mnist_test_acc</th>\n",
       "      <th>letters_acc</th>\n",
       "      <th>fashion_acc</th>\n",
       "      <th>kmnist_acc</th>\n",
       "    </tr>\n",
       "  </thead>\n",
       "  <tbody>\n",
       "    <tr>\n",
       "      <th>base</th>\n",
       "      <td>0.999</td>\n",
       "      <td>0.995</td>\n",
       "      <td>0.101</td>\n",
       "      <td>0.100</td>\n",
       "      <td>0.101</td>\n",
       "    </tr>\n",
       "    <tr>\n",
       "      <th>base_letters</th>\n",
       "      <td>0.996</td>\n",
       "      <td>0.995</td>\n",
       "      <td>0.100</td>\n",
       "      <td>0.102</td>\n",
       "      <td>0.100</td>\n",
       "    </tr>\n",
       "    <tr>\n",
       "      <th>base_fashion</th>\n",
       "      <td>0.992</td>\n",
       "      <td>0.990</td>\n",
       "      <td>0.100</td>\n",
       "      <td>0.100</td>\n",
       "      <td>0.101</td>\n",
       "    </tr>\n",
       "    <tr>\n",
       "      <th>inn</th>\n",
       "      <td>0.963</td>\n",
       "      <td>0.963</td>\n",
       "      <td>0.101</td>\n",
       "      <td>0.101</td>\n",
       "      <td>0.099</td>\n",
       "    </tr>\n",
       "    <tr>\n",
       "      <th>deepaa_linear</th>\n",
       "      <td>0.975</td>\n",
       "      <td>0.975</td>\n",
       "      <td>0.101</td>\n",
       "      <td>0.100</td>\n",
       "      <td>0.101</td>\n",
       "    </tr>\n",
       "    <tr>\n",
       "      <th>deepaa_sq</th>\n",
       "      <td>0.990</td>\n",
       "      <td>0.990</td>\n",
       "      <td>0.100</td>\n",
       "      <td>0.098</td>\n",
       "      <td>0.099</td>\n",
       "    </tr>\n",
       "    <tr>\n",
       "      <th>deepaa_pre</th>\n",
       "      <td>0.982</td>\n",
       "      <td>0.981</td>\n",
       "      <td>0.100</td>\n",
       "      <td>0.099</td>\n",
       "      <td>0.102</td>\n",
       "    </tr>\n",
       "  </tbody>\n",
       "</table>\n",
       "</div>"
      ],
      "text/plain": [
       "               mnist_train_acc  mnist_test_acc  letters_acc  fashion_acc  \\\n",
       "base                     0.999           0.995        0.101        0.100   \n",
       "base_letters             0.996           0.995        0.100        0.102   \n",
       "base_fashion             0.992           0.990        0.100        0.100   \n",
       "inn                      0.963           0.963        0.101        0.101   \n",
       "deepaa_linear            0.975           0.975        0.101        0.100   \n",
       "deepaa_sq                0.990           0.990        0.100        0.098   \n",
       "deepaa_pre               0.982           0.981        0.100        0.099   \n",
       "\n",
       "               kmnist_acc  \n",
       "base                0.101  \n",
       "base_letters        0.100  \n",
       "base_fashion        0.101  \n",
       "inn                 0.099  \n",
       "deepaa_linear       0.101  \n",
       "deepaa_sq           0.099  \n",
       "deepaa_pre          0.102  "
      ]
     },
     "execution_count": 11,
     "metadata": {},
     "output_type": "execute_result"
    }
   ],
   "source": [
    "results_class[[f'{k}_acc' for k in dsets.keys()]].round(3)"
   ]
  },
  {
   "cell_type": "code",
   "execution_count": 12,
   "metadata": {},
   "outputs": [
    {
     "data": {
      "text/html": [
       "<div>\n",
       "<style scoped>\n",
       "    .dataframe tbody tr th:only-of-type {\n",
       "        vertical-align: middle;\n",
       "    }\n",
       "\n",
       "    .dataframe tbody tr th {\n",
       "        vertical-align: top;\n",
       "    }\n",
       "\n",
       "    .dataframe thead th {\n",
       "        text-align: right;\n",
       "    }\n",
       "</style>\n",
       "<table border=\"1\" class=\"dataframe\">\n",
       "  <thead>\n",
       "    <tr style=\"text-align: right;\">\n",
       "      <th></th>\n",
       "      <th>mnist_train_conf</th>\n",
       "      <th>mnist_test_conf</th>\n",
       "      <th>letters_conf</th>\n",
       "      <th>fashion_conf</th>\n",
       "      <th>kmnist_conf</th>\n",
       "    </tr>\n",
       "  </thead>\n",
       "  <tbody>\n",
       "    <tr>\n",
       "      <th>base</th>\n",
       "      <td>0.999</td>\n",
       "      <td>0.998</td>\n",
       "      <td>0.897</td>\n",
       "      <td>0.690</td>\n",
       "      <td>0.821</td>\n",
       "    </tr>\n",
       "    <tr>\n",
       "      <th>base_letters</th>\n",
       "      <td>0.987</td>\n",
       "      <td>0.986</td>\n",
       "      <td>0.393</td>\n",
       "      <td>0.247</td>\n",
       "      <td>0.379</td>\n",
       "    </tr>\n",
       "    <tr>\n",
       "      <th>base_fashion</th>\n",
       "      <td>0.992</td>\n",
       "      <td>0.992</td>\n",
       "      <td>0.824</td>\n",
       "      <td>0.112</td>\n",
       "      <td>0.661</td>\n",
       "    </tr>\n",
       "    <tr>\n",
       "      <th>inn</th>\n",
       "      <td>0.856</td>\n",
       "      <td>0.856</td>\n",
       "      <td>0.570</td>\n",
       "      <td>0.342</td>\n",
       "      <td>0.425</td>\n",
       "    </tr>\n",
       "    <tr>\n",
       "      <th>deepaa_linear</th>\n",
       "      <td>0.931</td>\n",
       "      <td>0.932</td>\n",
       "      <td>0.599</td>\n",
       "      <td>0.266</td>\n",
       "      <td>0.211</td>\n",
       "    </tr>\n",
       "    <tr>\n",
       "      <th>deepaa_sq</th>\n",
       "      <td>0.988</td>\n",
       "      <td>0.988</td>\n",
       "      <td>0.806</td>\n",
       "      <td>0.622</td>\n",
       "      <td>0.706</td>\n",
       "    </tr>\n",
       "    <tr>\n",
       "      <th>deepaa_pre</th>\n",
       "      <td>0.949</td>\n",
       "      <td>0.948</td>\n",
       "      <td>0.706</td>\n",
       "      <td>0.364</td>\n",
       "      <td>0.443</td>\n",
       "    </tr>\n",
       "  </tbody>\n",
       "</table>\n",
       "</div>"
      ],
      "text/plain": [
       "               mnist_train_conf  mnist_test_conf  letters_conf  fashion_conf  \\\n",
       "base                      0.999            0.998         0.897         0.690   \n",
       "base_letters              0.987            0.986         0.393         0.247   \n",
       "base_fashion              0.992            0.992         0.824         0.112   \n",
       "inn                       0.856            0.856         0.570         0.342   \n",
       "deepaa_linear             0.931            0.932         0.599         0.266   \n",
       "deepaa_sq                 0.988            0.988         0.806         0.622   \n",
       "deepaa_pre                0.949            0.948         0.706         0.364   \n",
       "\n",
       "               kmnist_conf  \n",
       "base                 0.821  \n",
       "base_letters         0.379  \n",
       "base_fashion         0.661  \n",
       "inn                  0.425  \n",
       "deepaa_linear        0.211  \n",
       "deepaa_sq            0.706  \n",
       "deepaa_pre           0.443  "
      ]
     },
     "execution_count": 12,
     "metadata": {},
     "output_type": "execute_result"
    }
   ],
   "source": [
    "results_class[[f'{k}_conf' for k in dsets.keys()]].round(3)"
   ]
  },
  {
   "cell_type": "code",
   "execution_count": 13,
   "metadata": {},
   "outputs": [
    {
     "data": {
      "text/html": [
       "<div>\n",
       "<style scoped>\n",
       "    .dataframe tbody tr th:only-of-type {\n",
       "        vertical-align: middle;\n",
       "    }\n",
       "\n",
       "    .dataframe tbody tr th {\n",
       "        vertical-align: top;\n",
       "    }\n",
       "\n",
       "    .dataframe thead th {\n",
       "        text-align: right;\n",
       "    }\n",
       "</style>\n",
       "<table border=\"1\" class=\"dataframe\">\n",
       "  <thead>\n",
       "    <tr style=\"text-align: right;\">\n",
       "      <th></th>\n",
       "      <th>mnist_train_ind</th>\n",
       "      <th>mnist_test_ind</th>\n",
       "      <th>letters_ind</th>\n",
       "      <th>fashion_ind</th>\n",
       "      <th>kmnist_ind</th>\n",
       "    </tr>\n",
       "  </thead>\n",
       "  <tbody>\n",
       "    <tr>\n",
       "      <th>base</th>\n",
       "      <td>0.999</td>\n",
       "      <td>0.997</td>\n",
       "      <td>0.850</td>\n",
       "      <td>0.517</td>\n",
       "      <td>0.735</td>\n",
       "    </tr>\n",
       "    <tr>\n",
       "      <th>base_letters</th>\n",
       "      <td>0.991</td>\n",
       "      <td>0.990</td>\n",
       "      <td>0.236</td>\n",
       "      <td>0.022</td>\n",
       "      <td>0.145</td>\n",
       "    </tr>\n",
       "    <tr>\n",
       "      <th>base_fashion</th>\n",
       "      <td>0.991</td>\n",
       "      <td>0.991</td>\n",
       "      <td>0.731</td>\n",
       "      <td>0.002</td>\n",
       "      <td>0.493</td>\n",
       "    </tr>\n",
       "    <tr>\n",
       "      <th>inn</th>\n",
       "      <td>0.905</td>\n",
       "      <td>0.903</td>\n",
       "      <td>0.437</td>\n",
       "      <td>0.083</td>\n",
       "      <td>0.183</td>\n",
       "    </tr>\n",
       "    <tr>\n",
       "      <th>deepaa_linear</th>\n",
       "      <td>0.874</td>\n",
       "      <td>0.876</td>\n",
       "      <td>0.301</td>\n",
       "      <td>0.050</td>\n",
       "      <td>0.017</td>\n",
       "    </tr>\n",
       "    <tr>\n",
       "      <th>deepaa_sq</th>\n",
       "      <td>0.975</td>\n",
       "      <td>0.974</td>\n",
       "      <td>0.540</td>\n",
       "      <td>0.178</td>\n",
       "      <td>0.322</td>\n",
       "    </tr>\n",
       "    <tr>\n",
       "      <th>deepaa_pre</th>\n",
       "      <td>0.915</td>\n",
       "      <td>0.914</td>\n",
       "      <td>0.407</td>\n",
       "      <td>0.017</td>\n",
       "      <td>0.063</td>\n",
       "    </tr>\n",
       "  </tbody>\n",
       "</table>\n",
       "</div>"
      ],
      "text/plain": [
       "               mnist_train_ind  mnist_test_ind  letters_ind  fashion_ind  \\\n",
       "base                     0.999           0.997        0.850        0.517   \n",
       "base_letters             0.991           0.990        0.236        0.022   \n",
       "base_fashion             0.991           0.991        0.731        0.002   \n",
       "inn                      0.905           0.903        0.437        0.083   \n",
       "deepaa_linear            0.874           0.876        0.301        0.050   \n",
       "deepaa_sq                0.975           0.974        0.540        0.178   \n",
       "deepaa_pre               0.915           0.914        0.407        0.017   \n",
       "\n",
       "               kmnist_ind  \n",
       "base                0.735  \n",
       "base_letters        0.145  \n",
       "base_fashion        0.493  \n",
       "inn                 0.183  \n",
       "deepaa_linear       0.017  \n",
       "deepaa_sq           0.322  \n",
       "deepaa_pre          0.063  "
      ]
     },
     "execution_count": 13,
     "metadata": {},
     "output_type": "execute_result"
    }
   ],
   "source": [
    "results_class[[f'{k}_ind' for k in dsets.keys()]].round(3)"
   ]
  },
  {
   "cell_type": "markdown",
   "metadata": {
    "jupyter": {
     "source_hidden": true
    }
   },
   "source": [
    "## Results directly based on INN output"
   ]
  },
  {
   "cell_type": "code",
   "execution_count": 22,
   "metadata": {
    "collapsed": true,
    "jupyter": {
     "outputs_hidden": true,
     "source_hidden": true
    }
   },
   "outputs": [
    {
     "data": {
      "application/vnd.jupyter.widget-view+json": {
       "model_id": "6b196b1ec1ed4f74b97fef14fb3bc8d1",
       "version_major": 2,
       "version_minor": 0
      },
      "text/plain": [
       "HBox(children=(FloatProgress(value=0.0, max=468.0), HTML(value='')))"
      ]
     },
     "metadata": {},
     "output_type": "display_data"
    },
    {
     "name": "stdout",
     "output_type": "stream",
     "text": [
      "\n"
     ]
    }
   ],
   "source": [
    "inn = INN().to(device)\n",
    "inn.load_state_dict(dict(filter(lambda x: 'tmp' not in x[0], torch.load('runs/May13_19-39-26_GLaDOS/checkpoints/generator_in.pt').items())))\n",
    "\n",
    "# Initialize sampling distribution\n",
    "latent = torch.empty(0, 32 * 32)\n",
    "classes = torch.empty(0).long()\n",
    "with torch.no_grad():\n",
    "    for x, y in tqdm(data.train_loader):\n",
    "        x = x.to(device)\n",
    "        y = y.to(device)\n",
    "        cond = [\n",
    "            fill[:, :, :16, :16][y],\n",
    "            fill[:, :, :8, :8][y],\n",
    "            make_cond(y)\n",
    "        ]\n",
    "        output = inn(x, cond)\n",
    "        latent = torch.cat([latent, output.data.cpu()])\n",
    "        classes = torch.cat([classes, y.data.cpu()])\n",
    "\n",
    "mean = latent.mean(dim=0).to(device)\n",
    "cov = torch.tensor(np.cov(latent.cpu().numpy().T), device=device,\n",
    "                   dtype=torch.float)\n",
    "\n",
    "# latent_dist = torch.distributions.multivariate_normal.MultivariateNormal(mean, cov)\n",
    "latent_dist = torch.distributions.multivariate_normal.MultivariateNormal(torch.zeros(1024, dtype=torch.float, device=device), torch.eye(1024, dtype=torch.float, device=device))"
   ]
  },
  {
   "cell_type": "code",
   "execution_count": null,
   "metadata": {
    "jupyter": {
     "source_hidden": true
    }
   },
   "outputs": [],
   "source": [
    "latent_dist = torch.distributions.multivariate_normal.MultivariateNormal(mean, cov)\n",
    "latent_dist = torch.distributions.multivariate_normal.MultivariateNormal(torch.zeros(1024, dtype=torch.float, device=device), torch.eye(1024, dtype=torch.float, device=device))\n",
    "latent_dist.entropy()"
   ]
  },
  {
   "cell_type": "code",
   "execution_count": null,
   "metadata": {
    "jupyter": {
     "source_hidden": true
    }
   },
   "outputs": [],
   "source": [
    "def inn_test(inn, mean, cov, data_loader, rand_y=False):\n",
    "    with torch.no_grad():\n",
    "        acc = torch.empty(0, dtype=torch.float, device=device)\n",
    "        confidence = torch.empty(0, dtype=torch.float, device=device)\n",
    "        for x, y in tqdm(data_loader):\n",
    "            x, y = x.to(device), y.to(device)\n",
    "\n",
    "            probs = torch.empty(512, 0, dtype=torch.float, device=device)\n",
    "            \n",
    "            for c in range(10):\n",
    "\n",
    "                targets = c * torch.ones((512,), dtype=torch.long, device=device)\n",
    "                \n",
    "#                 if rand_y:\n",
    "#                     y = torch.randint(10, (512,))\n",
    "\n",
    "                cond = [\n",
    "                    fill[:, :, :16, :16][targets],\n",
    "                    fill[:, :, :8, :8][targets],\n",
    "                    make_cond(targets)\n",
    "                ]\n",
    "                output = inn(x, cond)\n",
    "#                 print(output.mean())\n",
    "#                 print(latent_dist.log_prob(output))\n",
    "                probs = torch.cat([probs, latent_dist.log_prob(output).reshape(512, 1)], dim=1)\n",
    "#                 zz = torch.sum(output**2, dim=1)\n",
    "#                 jac = inn.jacobian(run_forward=False)\n",
    "#                 print(jac)\n",
    "#                 print(zz)\n",
    "#                 raise\n",
    "\n",
    "#                 neg_log_likeli = 0.5 * zz - jac\n",
    "#                 probs = torch.cat([probs, -neg_log_likeli.reshape(512, 1)], dim=1)\n",
    "                \n",
    "            confidence = torch.cat([confidence, probs.max(dim=1)[0]], dim=0)\n",
    "            acc = torch.cat([acc, (probs.max(dim=1)[1] == y).float().mean().reshape(1)], dim=0)\n",
    "                \n",
    "    return acc.mean().item(), confidence.mean().item(), confidence.std().item()"
   ]
  },
  {
   "cell_type": "code",
   "execution_count": null,
   "metadata": {
    "jupyter": {
     "source_hidden": true
    }
   },
   "outputs": [],
   "source": [
    "inn_test(inn, mean, cov, test_loader, rand_y=False)"
   ]
  },
  {
   "cell_type": "code",
   "execution_count": null,
   "metadata": {
    "jupyter": {
     "source_hidden": true
    }
   },
   "outputs": [],
   "source": [
    "inn_test(inn, mean, cov, letter_loader, rand_y=False)"
   ]
  },
  {
   "cell_type": "code",
   "execution_count": null,
   "metadata": {
    "jupyter": {
     "source_hidden": true
    }
   },
   "outputs": [],
   "source": [
    "inn_test(inn, mean, cov, fashion_loader, rand_y=False)"
   ]
  },
  {
   "cell_type": "markdown",
   "metadata": {
    "jupyter": {
     "source_hidden": true
    }
   },
   "source": [
    "## Adding Min-Likelihood\n",
    "<img src=./Loss_Negative_Log-Likelihood_In-Dist.svg width=50% style=\"background-color: #FFF\">"
   ]
  },
  {
   "cell_type": "markdown",
   "metadata": {
    "jupyter": {
     "source_hidden": true
    }
   },
   "source": [
    "## Translations in bigger images\n",
    "\n",
    "![](http://glados:6007/data/plugin/images/individualImage?ts=1589014600.3871336&run=May07_17-11-48_GLaDOS&tag=Samples%2FIn-Distribution&sample=0&index=1498)"
   ]
  }
 ],
 "metadata": {
  "kernelspec": {
   "display_name": "Python 3",
   "language": "python",
   "name": "python3"
  },
  "language_info": {
   "codemirror_mode": {
    "name": "ipython",
    "version": 3
   },
   "file_extension": ".py",
   "mimetype": "text/x-python",
   "name": "python",
   "nbconvert_exporter": "python",
   "pygments_lexer": "ipython3",
   "version": "3.8.5"
  }
 },
 "nbformat": 4,
 "nbformat_minor": 4
}
