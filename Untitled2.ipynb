{
 "cells": [
  {
   "cell_type": "code",
   "execution_count": 1,
   "metadata": {},
   "outputs": [],
   "source": [
    "import torch"
   ]
  },
  {
   "cell_type": "code",
   "execution_count": null,
   "metadata": {},
   "outputs": [],
   "source": [
    "for x, true_labels in test_loader:\n",
    "\n",
    "    per_class_nll = torch.empty(0, batch_size)\n",
    "    for c in range(n_classes):\n",
    "        labels = torch.fill(c, shape=(batch_size, 1))\n",
    "\n",
    "        latent = inn(x, inn.labels2condition(labels))\n",
    "\n",
    "        # batch_size\n",
    "        nll = latent**2 - inn.log_jacobian()\n",
    "        \n",
    "        per_class_nll = torch.cat([per_class_nll, nll[None, :]], dim=0)\n",
    "        \n",
    "    # n_classes, batch_size\n",
    "\n",
    "\n",
    "    class = torch.argmin(per_class_nll, dim=0)\n",
    "    \n",
    "    acc = torch.mean(true_labels == class)"
   ]
  }
 ],
 "metadata": {
  "kernelspec": {
   "display_name": "Python 3",
   "language": "python",
   "name": "python3"
  },
  "language_info": {
   "codemirror_mode": {
    "name": "ipython",
    "version": 3
   },
   "file_extension": ".py",
   "mimetype": "text/x-python",
   "name": "python",
   "nbconvert_exporter": "python",
   "pygments_lexer": "ipython3",
   "version": "3.8.5"
  }
 },
 "nbformat": 4,
 "nbformat_minor": 4
}
